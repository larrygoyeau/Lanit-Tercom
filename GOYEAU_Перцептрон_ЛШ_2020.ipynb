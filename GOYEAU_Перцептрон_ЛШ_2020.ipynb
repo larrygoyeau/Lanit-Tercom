{
  "nbformat": 4,
  "nbformat_minor": 0,
  "metadata": {
    "colab": {
      "name": "GOYEAU_Перцептрон_ЛШ_2020.ipynb",
      "provenance": [],
      "collapsed_sections": [],
      "include_colab_link": true
    },
    "kernelspec": {
      "name": "python3",
      "display_name": "Python 3"
    }
  },
  "cells": [
    {
      "cell_type": "markdown",
      "metadata": {
        "id": "view-in-github",
        "colab_type": "text"
      },
      "source": [
        "<a href=\"https://colab.research.google.com/github/larrygoyeau/Lanit-Tercom/blob/master/GOYEAU_%D0%9F%D0%B5%D1%80%D1%86%D0%B5%D0%BF%D1%82%D1%80%D0%BE%D0%BD_%D0%9B%D0%A8_2020.ipynb\" target=\"_parent\"><img src=\"https://colab.research.google.com/assets/colab-badge.svg\" alt=\"Open In Colab\"/></a>"
      ]
    },
    {
      "cell_type": "markdown",
      "metadata": {
        "id": "ZQIxVq-ndk-y",
        "colab_type": "text"
      },
      "source": [
        "#Перцептрон\n",
        "![alt text](https://ldapwiki.com/attach/Perceptron/perceptron.jpg)\n",
        "\n",
        "На рисунке представлена класическая схема перцептрона.\n",
        "\n",
        "Как мы узнали из предыдущих статей - модель искусственной нейронной сети была создана по аналогии с мозгом. \n",
        "Единица вычисления в нейронно сети - нейрон (узел). Узел получает входные данные (от внешнего источника или от других узлов), а затем вычисляет выходные данные. \n",
        "Каждый вход дополняется «весом» (w). Значение весов зависит от важности каждого входа. Нейрон применяет функцию f к входным данным. Функция представляет собой сумму произведений веса на соответствующее значение входа + смещение b. Смещение - это вход равный 1, веса смещение также настраиваются во время обучения.\n",
        "\n",
        "Компоненты перцептрона: \n",
        "- входные значения (1, x1, x2, ... \n",
        ", xn);\n",
        "- веса входных значений (w0, w1, w2, ..., wn);\n",
        "- значение нейрона - взвешенная сумма входных значений (1×w0 + x1×w1 + x2×w2 + ... + xn×wn);\n",
        "- функция активации, которая определяет выход нейрона.\n",
        "\n",
        "\n",
        "В классическом перцептроне в качестве функции активации используется пороговая. Вычисленное значение нейрона сравнивается с заданным порогом в функции активации. Если значение больше порога, то выход = 1, иначе - выход = 0.\n",
        "\n",
        "На этапе обучения перцептрона предсказанные значения сравниваются с действительными - таким образом вычисляется ошибка обучения.\n",
        "Значение ошибки далее используется для настройки весов. \n",
        "\n",
        "\n",
        "Скорость обучения (learning rate) - это значение отвечает за то, насколько сильно будут сдвигаться веса. \n",
        "\n",
        "Наша задачи при обучении нейронной сети - подобрать такие значения весов, при которых ошибка (погрешность между предсказанным и действительным) была минимальна. При использовании слишком большой скорости обучения (learning rate) велика вероятность, что необходимое значение может быть пропущено. При использовании слишком низкого значения - время, затрачиваемое на обучение, будет очень долгим.\n",
        "\n",
        "Небольшая статья о перцептронах: https://neurohive.io/ru/osnovy-data-science/perseptron-rozenblatta-mashina-kotoraja-smogla-obuchatsja/\n",
        "\n",
        "Немного про скорость обучения: https://radioprog.ru/post/773\n",
        "\n",
        "\n",
        "\n",
        "\n"
      ]
    },
    {
      "cell_type": "markdown",
      "metadata": {
        "id": "aJDG-0gIdOVr",
        "colab_type": "text"
      },
      "source": [
        "-------------"
      ]
    },
    {
      "cell_type": "markdown",
      "metadata": {
        "id": "yNip17C4G39K",
        "colab_type": "text"
      },
      "source": [
        "#Пример 1"
      ]
    },
    {
      "cell_type": "markdown",
      "metadata": {
        "id": "f_QXg2j_Zk5L",
        "colab_type": "text"
      },
      "source": [
        "##Теперь рассмотрим построение перцептрона на практике. Задача состоит в обучении нейросети выполнять логическую операцию ИЛИ (||)."
      ]
    },
    {
      "cell_type": "markdown",
      "metadata": {
        "id": "LXiqhsXsdTfH",
        "colab_type": "text"
      },
      "source": [
        "Для начала подключим библиотеку для работы с массивами и зададим значения для входных данных."
      ]
    },
    {
      "cell_type": "code",
      "metadata": {
        "id": "enzNQNUTOYWz",
        "colab_type": "code",
        "colab": {}
      },
      "source": [
        "import numpy as np  # подключаем библиотеку\n",
        "from numpy import array, dot, random\n",
        "\n",
        "# X - массив входных значений со всеми возможными вариациями входов для 2ух входных значений\n",
        "X=np.array([[0,0],\n",
        "            [1,0],\n",
        "            [0,1],\n",
        "            [1,1]])\n",
        "\n",
        "# Y - массив эталонных значений, то есть значения по индексу соответствуют правильному ответу для дизъюнкции 2ух входных значений из массива Х\n",
        "Y=np.array([0,1,1,1])"
      ],
      "execution_count": null,
      "outputs": []
    },
    {
      "cell_type": "markdown",
      "metadata": {
        "id": "lZtK6fDrdsVT",
        "colab_type": "text"
      },
      "source": [
        "Добавим в массив входных значений смещение (bias)."
      ]
    },
    {
      "cell_type": "code",
      "metadata": {
        "id": "R03-BlbeeOJb",
        "colab_type": "code",
        "colab": {
          "base_uri": "https://localhost:8080/",
          "height": 35
        },
        "outputId": "707d4f9e-eea6-4410-fa65-ae21ff7f653f"
      },
      "source": [
        "# проверим размерность массива\n",
        "x_shape = X.shape\n",
        "x_shape"
      ],
      "execution_count": null,
      "outputs": [
        {
          "output_type": "execute_result",
          "data": {
            "text/plain": [
              "(4, 2)"
            ]
          },
          "metadata": {
            "tags": []
          },
          "execution_count": 2
        }
      ]
    },
    {
      "cell_type": "code",
      "metadata": {
        "id": "uGN6fvzked6R",
        "colab_type": "code",
        "colab": {
          "base_uri": "https://localhost:8080/",
          "height": 88
        },
        "outputId": "bd9b5cff-b2d5-4b6d-9682-70e758e5ab05"
      },
      "source": [
        "# создадим массив со значениями смещений\n",
        "arr_bias = np.ones((x_shape[0],1), dtype=int)\n",
        "arr_bias"
      ],
      "execution_count": null,
      "outputs": [
        {
          "output_type": "execute_result",
          "data": {
            "text/plain": [
              "array([[1],\n",
              "       [1],\n",
              "       [1],\n",
              "       [1]])"
            ]
          },
          "metadata": {
            "tags": []
          },
          "execution_count": 3
        }
      ]
    },
    {
      "cell_type": "code",
      "metadata": {
        "id": "Q0TdK9JQeRnh",
        "colab_type": "code",
        "colab": {
          "base_uri": "https://localhost:8080/",
          "height": 88
        },
        "outputId": "06dd4a2c-1316-4854-bd46-285f6f709c3a"
      },
      "source": [
        "# добавим к массиву входных значений массив смещений\n",
        "X = np.append(X, arr_bias, axis=1)\n",
        "X"
      ],
      "execution_count": null,
      "outputs": [
        {
          "output_type": "execute_result",
          "data": {
            "text/plain": [
              "array([[0, 0, 1],\n",
              "       [1, 0, 1],\n",
              "       [0, 1, 1],\n",
              "       [1, 1, 1]])"
            ]
          },
          "metadata": {
            "tags": []
          },
          "execution_count": 4
        }
      ]
    },
    {
      "cell_type": "code",
      "metadata": {
        "id": "x1uTnZi1_z9X",
        "colab_type": "code",
        "colab": {
          "base_uri": "https://localhost:8080/",
          "height": 35
        },
        "outputId": "87afa695-808f-430e-9e5d-3408c7292074"
      },
      "source": [
        "# W - рандомные начальные значения весов для входных значений\n",
        "W = random.rand(3)\n",
        "W"
      ],
      "execution_count": null,
      "outputs": [
        {
          "output_type": "execute_result",
          "data": {
            "text/plain": [
              "array([0.45482198, 0.75445828, 0.3722077 ])"
            ]
          },
          "metadata": {
            "tags": []
          },
          "execution_count": 5
        }
      ]
    },
    {
      "cell_type": "markdown",
      "metadata": {
        "id": "O9tNOC1ciOd4",
        "colab_type": "text"
      },
      "source": [
        "Начнем реализацию алгоритма для построения и обучения перцептрона"
      ]
    },
    {
      "cell_type": "code",
      "metadata": {
        "id": "1E-86PjWMtEQ",
        "colab_type": "code",
        "colab": {
          "base_uri": "https://localhost:8080/",
          "height": 35
        },
        "outputId": "322345ea-fa8a-4511-d119-4c1c0fced7b3"
      },
      "source": [
        "# функция активации\n",
        "activate = lambda sum: 0 if sum < 0 else 1\n",
        "\n",
        "# скорость обучения\n",
        "lr = 2e-1 \n",
        "# количество итераций обучения\n",
        "N = 200\n",
        "\n",
        "for i in range(N):\n",
        "    # рандомное число от 0 до 3 для определения индекса примера из массива Х\n",
        "    rndm = random.randint(4)\n",
        "    # присвоение значения переменной по сгенерированному индексу\n",
        "    element_x = X[rndm]\n",
        "    expected = Y[rndm]\n",
        "    # произведение входного значения (Х) на вес (W)\n",
        "    result = dot(W, element_x)\n",
        "    # вычисление ошибки \n",
        "    error = expected - activate(result)\n",
        "    # изменение весов\n",
        "    for i in range(len(W)):\n",
        "        W[i] += lr * error * element_x[i]\n",
        "print(W)"
      ],
      "execution_count": null,
      "outputs": [
        {
          "output_type": "stream",
          "text": [
            "[ 0.45482198  0.75445828 -0.0277923 ]\n"
          ],
          "name": "stdout"
        }
      ]
    },
    {
      "cell_type": "markdown",
      "metadata": {
        "id": "MVEhlnswVo5q",
        "colab_type": "text"
      },
      "source": [
        "Тестирование"
      ]
    },
    {
      "cell_type": "code",
      "metadata": {
        "id": "fnFZ4rI9-FwL",
        "colab_type": "code",
        "colab": {
          "base_uri": "https://localhost:8080/",
          "height": 88
        },
        "outputId": "efcbb16e-d79a-4452-9633-ab434a3f7d22"
      },
      "source": [
        "# вывод результата тренировки\n",
        "for element_x in X:\n",
        "    result = dot(element_x, W)\n",
        "    print(\"{}: {} -> {}\".format(element_x[:2], result, activate(result)))\n"
      ],
      "execution_count": null,
      "outputs": [
        {
          "output_type": "stream",
          "text": [
            "[0 0]: -0.02779230119450482 -> 0\n",
            "[1 0]: 0.4270296753665004 -> 1\n",
            "[0 1]: 0.7266659745118548 -> 1\n",
            "[1 1]: 1.1814879510728602 -> 1\n"
          ],
          "name": "stdout"
        }
      ]
    },
    {
      "cell_type": "markdown",
      "metadata": {
        "id": "958IhLP1Gcok",
        "colab_type": "text"
      },
      "source": [
        "#Самостоятельное задание 1.\n",
        "##Написать аналогичный алгоритм для решения операции логического И (&)."
      ]
    },
    {
      "cell_type": "code",
      "metadata": {
        "id": "QgXARCgOLDH7",
        "colab_type": "code",
        "colab": {
          "base_uri": "https://localhost:8080/",
          "height": 35
        },
        "outputId": "66e88de0-7d67-4158-ed24-ff301d7a3fed"
      },
      "source": [
        "# решение\n",
        "# X - массив входных значений со всеми возможными вариациями входов для 2ух входных значений\n",
        "X=np.array([[0,0],\n",
        "            [1,0],\n",
        "            [0,1],\n",
        "            [1,1]])\n",
        "\n",
        "# Y - массив эталонных значений, то есть значения по индексу соответствуют правильному ответу для дизъюнкции 2ух входных значений из массива Х\n",
        "Y=np.array([0,0,0,1])\n",
        "\n",
        "# проверим размерность массива\n",
        "x_shape = X.shape\n",
        "\n",
        "# создадим массив со значениями смещений\n",
        "arr_bias = np.ones((x_shape[0],1), dtype=int)\n",
        "\n",
        "# добавим к массиву входных значений массив смещений\n",
        "X = np.append(X, arr_bias, axis=1)\n",
        "\n",
        "# W - рандомные начальные значения весов для входных значений\n",
        "W = random.rand(3)\n",
        "\n",
        "# функция активации\n",
        "activate = lambda sum: 0 if sum < 0 else 1\n",
        "\n",
        "# скорость обучения\n",
        "lr = 2e-1 \n",
        "# количество итераций обучения\n",
        "N = 200\n",
        "\n",
        "for i in range(N):\n",
        "    # рандомное число от 0 до 3 для определения индекса примера из массива Х\n",
        "    rndm = random.randint(4)\n",
        "    # присвоение значения переменной по сгенерированному индексу\n",
        "    element_x = X[rndm]\n",
        "    expected = Y[rndm]\n",
        "    # произведение входного значения (Х) на вес (W)\n",
        "    result = dot(W, element_x)\n",
        "    # вычисление ошибки \n",
        "    error = expected - activate(result)\n",
        "    # изменение весов\n",
        "    for i in range(len(W)):\n",
        "        W[i] += lr * error * element_x[i]\n",
        "print(W)"
      ],
      "execution_count": null,
      "outputs": [
        {
          "output_type": "stream",
          "text": [
            "[ 0.21190477  0.44135311 -0.50087622]\n"
          ],
          "name": "stdout"
        }
      ]
    },
    {
      "cell_type": "code",
      "metadata": {
        "id": "dx7F5tkorA58",
        "colab_type": "code",
        "colab": {
          "base_uri": "https://localhost:8080/",
          "height": 88
        },
        "outputId": "7a235016-c1a3-46ac-defc-0552be98b902"
      },
      "source": [
        "# вывод результата тренировки\n",
        "for element_x in X:\n",
        "    result = dot(element_x, W)\n",
        "    print(\"{}: {} -> {}\".format(element_x[:2], result, activate(result)))"
      ],
      "execution_count": null,
      "outputs": [
        {
          "output_type": "stream",
          "text": [
            "[0 0]: -0.5008762240957305 -> 0\n",
            "[1 0]: -0.2889714549989637 -> 0\n",
            "[0 1]: -0.05952311880624739 -> 0\n",
            "[1 1]: 0.15238165029051942 -> 1\n"
          ],
          "name": "stdout"
        }
      ]
    },
    {
      "cell_type": "markdown",
      "metadata": {
        "id": "JngRQdTHKXmx",
        "colab_type": "text"
      },
      "source": [
        "#Самостоятельное задание 2.\n",
        "##Написать алгоритм для обучения перцептрона возводить в квадрат.\n",
        "*то есть на вход будет подаваться число S и на выходе должно получиться Sˆ2."
      ]
    },
    {
      "cell_type": "code",
      "metadata": {
        "id": "cM14bgHoLevP",
        "colab_type": "code",
        "colab": {
          "base_uri": "https://localhost:8080/",
          "height": 35
        },
        "outputId": "d38ace7c-61c3-46ef-d3f9-f0fef5a9d071"
      },
      "source": [
        "# решение\n",
        "\n",
        "X_max=20\n",
        "X=np.array([[i] for i in range(X_max)])\n",
        "\n",
        "# проверим размерность массива\n",
        "x_shape = X.shape\n",
        "\n",
        "# создадим массив со значениями смещений\n",
        "arr_bias = np.ones((x_shape[0],1), dtype=int)\n",
        "\n",
        "# добавим к массиву входных значений массив смещений\n",
        "X = np.append(X, arr_bias, axis=1)\n",
        "\n",
        "Y=np.array([[i**2] for i in range(X_max)])\n",
        "\n",
        "# W - рандомные начальные значения весов для входных значений\n",
        "W = random.rand(2)*10\n",
        "\n",
        "# скорость обучения\n",
        "lr = 2/10000\n",
        "# количество итераций обучения\n",
        "N = 100000\n",
        "\n",
        "for i in range(N):\n",
        "    # рандомное число от 0 до X_max для определения индекса примера из массива Х\n",
        "    rndm = random.randint(X_max)\n",
        "    # присвоение значения переменной по сгенерированному индексу\n",
        "    element_x = X[rndm]\n",
        "    expected = Y[rndm]\n",
        "    # произведение входного значения (Х) на вес (W)\n",
        "    result = dot(W, element_x)\n",
        "    # вычисление ошибки\n",
        "    error = expected - result\n",
        "    # изменение весов\n",
        "    for i in range(len(W)):\n",
        "        W[i] += lr * error * element_x[i]\n",
        "print(W)"
      ],
      "execution_count": null,
      "outputs": [
        {
          "output_type": "stream",
          "text": [
            "[ 19.21632828 -55.7819443 ]\n"
          ],
          "name": "stdout"
        }
      ]
    },
    {
      "cell_type": "code",
      "metadata": {
        "id": "yPOOctH9pOw9",
        "colab_type": "code",
        "colab": {
          "base_uri": "https://localhost:8080/",
          "height": 373
        },
        "outputId": "eb69e278-df8c-456c-a60b-62d5d8f8c120"
      },
      "source": [
        "# вывод результата тренировки\n",
        "Y_predict=[]\n",
        "for element_x in X:\n",
        "    Y_predict =Y_predict+[dot(W, element_x)]\n",
        "    print(\"{}-> {}\".format(element_x[0], Y_predict[-1]))"
      ],
      "execution_count": null,
      "outputs": [
        {
          "output_type": "stream",
          "text": [
            "0-> -55.781944300283435\n",
            "1-> -36.56561602470839\n",
            "2-> -17.349287749133353\n",
            "3-> 1.8670405264416914\n",
            "4-> 21.08336880201673\n",
            "5-> 40.299697077591766\n",
            "6-> 59.51602535316682\n",
            "7-> 78.73235362874183\n",
            "8-> 97.94868190431689\n",
            "9-> 117.16501017989194\n",
            "10-> 136.38133845546696\n",
            "11-> 155.597666731042\n",
            "12-> 174.81399500661706\n",
            "13-> 194.0303232821921\n",
            "14-> 213.2466515577671\n",
            "15-> 232.46297983334216\n",
            "16-> 251.6793081089172\n",
            "17-> 270.89563638449226\n",
            "18-> 290.1119646600673\n",
            "19-> 309.3282929356423\n"
          ],
          "name": "stdout"
        }
      ]
    },
    {
      "cell_type": "code",
      "metadata": {
        "id": "sBAuVF91qgiC",
        "colab_type": "code",
        "colab": {
          "base_uri": "https://localhost:8080/",
          "height": 282
        },
        "outputId": "1b9f6974-acf1-4bd2-f6d4-867328424c7c"
      },
      "source": [
        "import matplotlib.pyplot as plt\n",
        "plt.plot(Y_predict,label='Prediction')\n",
        "plt.plot(Y,label='True')\n",
        "plt.legend()"
      ],
      "execution_count": null,
      "outputs": [
        {
          "output_type": "execute_result",
          "data": {
            "text/plain": [
              "<matplotlib.legend.Legend at 0x7fe2cd44f3c8>"
            ]
          },
          "metadata": {
            "tags": []
          },
          "execution_count": 12
        },
        {
          "output_type": "display_data",
          "data": {
            "image/png": "[encoded data removed]",
            "text/plain": [
              "<Figure size 432x288 with 1 Axes>"
            ]
          },
          "metadata": {
            "tags": [],
            "needs_background": "light"
          }
        }
      ]
    },
    {
      "cell_type": "markdown",
      "metadata": {
        "id": "xq1wlYW_reWu",
        "colab_type": "text"
      },
      "source": [
        "# С функцией активации ReLu"
      ]
    },
    {
      "cell_type": "code",
      "metadata": {
        "colab_type": "code",
        "id": "36arsEhwquvC",
        "colab": {
          "base_uri": "https://localhost:8080/",
          "height": 35
        },
        "outputId": "22f7880d-c344-466c-b474-204bc1900273"
      },
      "source": [
        "# решение\n",
        "\n",
        "X_max=20\n",
        "X=np.array([[i] for i in range(X_max)])\n",
        "\n",
        "# проверим размерность массива\n",
        "x_shape = X.shape\n",
        "\n",
        "# создадим массив со значениями смещений\n",
        "arr_bias = np.ones((x_shape[0],1), dtype=int)\n",
        "\n",
        "# добавим к массиву входных значений массив смещений\n",
        "X = np.append(X, arr_bias, axis=1)\n",
        "\n",
        "Y=np.array([[i**2] for i in range(X_max)])\n",
        "\n",
        "# W - рандомные начальные значения весов для входных значений\n",
        "W = random.rand(2)*10\n",
        "\n",
        "# функция активации ReLu\n",
        "activate = lambda sum: 0 if sum < 0 else sum\n",
        "\n",
        "# скорость обучения\n",
        "lr = 2/10000\n",
        "# количество итераций обучения\n",
        "N = 100000\n",
        "\n",
        "for i in range(N):\n",
        "    # рандомное число от 0 до X_max для определения индекса примера из массива Х\n",
        "    rndm = random.randint(X_max)\n",
        "    # присвоение значения переменной по сгенерированному индексу\n",
        "    element_x = X[rndm]\n",
        "    expected = Y[rndm]\n",
        "    # произведение входного значения (Х) на вес (W)\n",
        "    result = dot(W, element_x)\n",
        "    # вычисление ошибки\n",
        "    error = expected - activate(result)\n",
        "    # изменение весов\n",
        "    for i in range(len(W)):\n",
        "        W[i] += lr * error * element_x[i]\n",
        "print(W)"
      ],
      "execution_count": null,
      "outputs": [
        {
          "output_type": "stream",
          "text": [
            "[ 21.3936537  -95.01057663]\n"
          ],
          "name": "stdout"
        }
      ]
    },
    {
      "cell_type": "code",
      "metadata": {
        "colab_type": "code",
        "id": "Hx2nPP2urNAC",
        "colab": {
          "base_uri": "https://localhost:8080/",
          "height": 373
        },
        "outputId": "151a4318-cc94-4b58-d16b-9f2050e58925"
      },
      "source": [
        "# вывод результата тренировки\n",
        "Y_predict=[]\n",
        "for element_x in X:\n",
        "    Y_predict =Y_predict+[activate(dot(W, element_x))]\n",
        "    print(\"{}-> {}\".format(element_x[0], Y_predict[-1]))"
      ],
      "execution_count": null,
      "outputs": [
        {
          "output_type": "stream",
          "text": [
            "0-> 0\n",
            "1-> 0\n",
            "2-> 0\n",
            "3-> 0\n",
            "4-> 0\n",
            "5-> 11.957691880999107\n",
            "6-> 33.35134558272432\n",
            "7-> 54.744999284449506\n",
            "8-> 76.13865298617469\n",
            "9-> 97.53230668789988\n",
            "10-> 118.92596038962506\n",
            "11-> 140.31961409135027\n",
            "12-> 161.7132677930755\n",
            "13-> 183.10692149480064\n",
            "14-> 204.50057519652586\n",
            "15-> 225.89422889825101\n",
            "16-> 247.28788259997623\n",
            "17-> 268.68153630170144\n",
            "18-> 290.0751900034266\n",
            "19-> 311.4688437051518\n"
          ],
          "name": "stdout"
        }
      ]
    },
    {
      "cell_type": "code",
      "metadata": {
        "colab_type": "code",
        "id": "Prhc-DXBrWuF",
        "colab": {
          "base_uri": "https://localhost:8080/",
          "height": 282
        },
        "outputId": "b171f771-67c6-44b6-b047-8b862d5139f8"
      },
      "source": [
        "import matplotlib.pyplot as plt\n",
        "plt.plot(Y_predict,label='Prediction')\n",
        "plt.plot(Y,label='True')\n",
        "plt.legend()"
      ],
      "execution_count": null,
      "outputs": [
        {
          "output_type": "execute_result",
          "data": {
            "text/plain": [
              "<matplotlib.legend.Legend at 0x7fd418095860>"
            ]
          },
          "metadata": {
            "tags": []
          },
          "execution_count": 13
        },
        {
          "output_type": "display_data",
          "data": {
            "image/png": "[encoded data removed]",
            "text/plain": [
              "<Figure size 432x288 with 1 Axes>"
            ]
          },
          "metadata": {
            "tags": [],
            "needs_background": "light"
          }
        }
      ]
    }
  ]
}